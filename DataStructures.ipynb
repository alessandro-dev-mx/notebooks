{
  "nbformat": 4,
  "nbformat_minor": 0,
  "metadata": {
    "colab": {
      "name": "DataStructures.ipynb",
      "provenance": [],
      "collapsed_sections": [],
      "authorship_tag": "ABX9TyOUs2uCRfNnVaktbxk8gCZb",
      "include_colab_link": true
    },
    "kernelspec": {
      "name": "python3",
      "display_name": "Python 3"
    },
    "language_info": {
      "name": "python"
    }
  },
  "cells": [
    {
      "cell_type": "markdown",
      "metadata": {
        "id": "view-in-github",
        "colab_type": "text"
      },
      "source": [
        "<a href=\"https://colab.research.google.com/github/alessandro-dev-mx/notebooks/blob/main/DataStructures.ipynb\" target=\"_parent\"><img src=\"https://colab.research.google.com/assets/colab-badge.svg\" alt=\"Open In Colab\"/></a>"
      ]
    },
    {
      "cell_type": "markdown",
      "metadata": {
        "id": "rraqGZLcBb-o"
      },
      "source": [
        "# Data Structures"
      ]
    },
    {
      "cell_type": "markdown",
      "metadata": {
        "id": "6bqItt6LBooL"
      },
      "source": [
        "## Linked Lists"
      ]
    },
    {
      "cell_type": "markdown",
      "metadata": {
        "id": "IKnSQYBLBtQM"
      },
      "source": [
        "### Node Class"
      ]
    },
    {
      "cell_type": "code",
      "metadata": {
        "id": "gum_uWEyBsWh"
      },
      "source": [
        "class Node:\n",
        "\n",
        "  def __init__(self, value):\n",
        "    self.value = value\n",
        "    self.next = None"
      ],
      "execution_count": 7,
      "outputs": []
    },
    {
      "cell_type": "code",
      "metadata": {
        "id": "v_Sg1Yg3Bvot"
      },
      "source": [
        "class LinkedList:\n",
        "\n",
        "  def __init__(self, value):\n",
        "    new_node = Node(value)\n",
        "    self.head = new_node\n",
        "    self.tail = new_node\n",
        "    self.length = 1\n",
        "\n",
        "  def append(self, value):\n",
        "    new_node = Node(value)\n",
        "    if self.length == 0:\n",
        "      self.head = new_node\n",
        "    else:\n",
        "      self.tail.next = new_node\n",
        "    self.tail = new_node\n",
        "    self.length += 1\n",
        "\n",
        "  def prepend(self, value):\n",
        "    if self.length == 0:\n",
        "      self.append(value)\n",
        "    else:\n",
        "      new_node = Node(value)\n",
        "      new_node.next = self.head\n",
        "      self.head = new_node\n",
        "    self.length += 1\n",
        "\n",
        "  def pop(self):\n",
        "    if self.length == 0:\n",
        "      return None\n",
        "    if self.length == 1:\n",
        "      del self.head\n",
        "      del self.tail\n",
        "      self.head = None\n",
        "      self.tail = None\n",
        "    else:\n",
        "      current_node = self.head\n",
        "      while current_node.next != self.tail:\n",
        "        current_node = current_node.next\n",
        "      del current_node.next\n",
        "      current_node.next = None\n",
        "      self.tail = current_node\n",
        "    self.length -= 1\n",
        "\n",
        "  def pop_first(self):\n",
        "    if self.length == 0:\n",
        "      return None\n",
        "    new_head = self.head.next\n",
        "    del self.head\n",
        "    self.head = new_head\n",
        "    self.length -= 1\n",
        "    if self.length == 1:\n",
        "      self.tail = self.head\n",
        "\n",
        "  def get(self, index, type='Node'):\n",
        "    if index < 0 or index >= self.length:\n",
        "      return None\n",
        "    temp_node = self.head\n",
        "    for _ in range(index):\n",
        "      temp_node = temp_node.next\n",
        "    return temp_node if type == 'Node' else temp_node.value\n",
        "\n",
        "  def set(self, index, value):\n",
        "    if index < 0 or index >= self.length:\n",
        "      return False\n",
        "    temp_node = self.get(index)\n",
        "    temp_node.value = value\n",
        "    return True\n",
        "\n",
        "  def insert(self, index, value):\n",
        "    if index < 0 or index > self.length:\n",
        "      return False\n",
        "    if index == self.length:\n",
        "      self.append(value)\n",
        "      return True\n",
        "    elif index == 0:\n",
        "      self.prepend(value)\n",
        "      return True\n",
        "    new_node = Node(value)\n",
        "    pre_node = self.get(index - 1)\n",
        "    post_node = self.get(index)\n",
        "    pre_node.next = new_node\n",
        "    new_node.next = post_node\n",
        "    self.length += 1\n",
        "    return True\n",
        "\n",
        "  def remove(self, index):\n",
        "    if index < 0 or index >= self.length:\n",
        "      return False\n",
        "    if index == 0:\n",
        "      self.pop_first()\n",
        "      return True\n",
        "    if index == self.length - 1:\n",
        "      self.pop()\n",
        "      return True\n",
        "    pre_node = self.get(index - 1)\n",
        "    node = pre_node.next\n",
        "    post_node = node.next\n",
        "    pre_node.next = post_node\n",
        "    del node\n",
        "    self.length -= 1\n",
        "    return True\n",
        "\n",
        "  def reverse(self):\n",
        "    prev_node = None\n",
        "    curr_node = self.head\n",
        "    next_node = curr_node.next\n",
        "    self.head = self.tail\n",
        "    self.tail = curr_node\n",
        "    for _ in range(self.length):\n",
        "      next_node = curr_node.next\n",
        "      curr_node.next = prev_node\n",
        "      prev_node = curr_node\n",
        "      curr_node = next_node\n",
        "\n",
        "  def print_list(self):\n",
        "    current_node = self.head\n",
        "    while current_node:\n",
        "      print(current_node.value)\n",
        "      current_node = current_node.next"
      ],
      "execution_count": 132,
      "outputs": []
    },
    {
      "cell_type": "code",
      "metadata": {
        "id": "93_G0nIiDtUj"
      },
      "source": [
        "linked_list = LinkedList('First Node')"
      ],
      "execution_count": 133,
      "outputs": []
    },
    {
      "cell_type": "code",
      "metadata": {
        "id": "gmjW3DM2FG9J"
      },
      "source": [
        "linked_list.append('Second Node')"
      ],
      "execution_count": 134,
      "outputs": []
    },
    {
      "cell_type": "code",
      "metadata": {
        "id": "okQ7i0dXFHNS"
      },
      "source": [
        "linked_list.append('Third Node')"
      ],
      "execution_count": 135,
      "outputs": []
    },
    {
      "cell_type": "code",
      "metadata": {
        "id": "OsquPeq5NGFe"
      },
      "source": [
        "linked_list.prepend('Zero Node')"
      ],
      "execution_count": 136,
      "outputs": []
    },
    {
      "cell_type": "code",
      "metadata": {
        "colab": {
          "base_uri": "https://localhost:8080/"
        },
        "id": "60MzQQ7Xv2PM",
        "outputId": "93a9f6d0-4666-4b45-8029-fb1f7ebcd6e5"
      },
      "source": [
        "linked_list.insert(4, 'Fourth Node')"
      ],
      "execution_count": 137,
      "outputs": [
        {
          "output_type": "execute_result",
          "data": {
            "text/plain": [
              "True"
            ]
          },
          "metadata": {},
          "execution_count": 137
        }
      ]
    },
    {
      "cell_type": "code",
      "metadata": {
        "colab": {
          "base_uri": "https://localhost:8080/"
        },
        "id": "TJayZbxkwBor",
        "outputId": "1f4f8133-3a79-4136-a1c1-2da70ce6bea7"
      },
      "source": [
        "linked_list.insert(3, 'New Third Node')"
      ],
      "execution_count": 138,
      "outputs": [
        {
          "output_type": "execute_result",
          "data": {
            "text/plain": [
              "True"
            ]
          },
          "metadata": {},
          "execution_count": 138
        }
      ]
    },
    {
      "cell_type": "code",
      "metadata": {
        "colab": {
          "base_uri": "https://localhost:8080/"
        },
        "id": "qBJOZlwFyoeB",
        "outputId": "ba80100d-0878-4860-dcac-10f51aabe524"
      },
      "source": [
        "linked_list.set(4, 'Ex Third Node')"
      ],
      "execution_count": 139,
      "outputs": [
        {
          "output_type": "execute_result",
          "data": {
            "text/plain": [
              "True"
            ]
          },
          "metadata": {},
          "execution_count": 139
        }
      ]
    },
    {
      "cell_type": "code",
      "metadata": {
        "colab": {
          "base_uri": "https://localhost:8080/"
        },
        "id": "pFw7v41Nyyi-",
        "outputId": "1c6e53fe-d048-423d-ff3b-6b63d3f0937a"
      },
      "source": [
        "linked_list.remove(1)"
      ],
      "execution_count": 94,
      "outputs": [
        {
          "output_type": "execute_result",
          "data": {
            "text/plain": [
              "True"
            ]
          },
          "metadata": {},
          "execution_count": 94
        }
      ]
    },
    {
      "cell_type": "code",
      "metadata": {
        "id": "jDKB6dtBAfsj"
      },
      "source": [
        "linked_list.reverse()"
      ],
      "execution_count": 140,
      "outputs": []
    },
    {
      "cell_type": "code",
      "metadata": {
        "colab": {
          "base_uri": "https://localhost:8080/"
        },
        "id": "6_fv-KYdNiRn",
        "outputId": "c4247760-ede3-4344-985f-2a96be8439aa"
      },
      "source": [
        "linked_list.length"
      ],
      "execution_count": 92,
      "outputs": [
        {
          "output_type": "execute_result",
          "data": {
            "text/plain": [
              "5"
            ]
          },
          "metadata": {},
          "execution_count": 92
        }
      ]
    },
    {
      "cell_type": "code",
      "metadata": {
        "colab": {
          "base_uri": "https://localhost:8080/",
          "height": 35
        },
        "id": "WkeVx-Fip7D1",
        "outputId": "994d5d2d-d73a-4ea4-ed54-9366f2e62dba"
      },
      "source": [
        "linked_list.get(3, 'Value')"
      ],
      "execution_count": 50,
      "outputs": [
        {
          "output_type": "execute_result",
          "data": {
            "application/vnd.google.colaboratory.intrinsic+json": {
              "type": "string"
            },
            "text/plain": [
              "'New Third Node'"
            ]
          },
          "metadata": {},
          "execution_count": 50
        }
      ]
    },
    {
      "cell_type": "code",
      "metadata": {
        "id": "ay1bue-pYCWW"
      },
      "source": [
        "linked_list.pop_first()"
      ],
      "execution_count": 100,
      "outputs": []
    },
    {
      "cell_type": "code",
      "metadata": {
        "colab": {
          "base_uri": "https://localhost:8080/"
        },
        "id": "1rOmtKaXFB3l",
        "outputId": "9a795dd2-e9f1-483f-e3de-9441747c45c6"
      },
      "source": [
        "linked_list.pop()"
      ],
      "execution_count": 82,
      "outputs": [
        {
          "output_type": "stream",
          "name": "stdout",
          "text": [
            "New Head <__main__.Node object at 0x7fc4500104d0>\n",
            "New Tail <__main__.Node object at 0x7fc450042b10>\n",
            "New Length 3\n"
          ]
        }
      ]
    },
    {
      "cell_type": "code",
      "metadata": {
        "colab": {
          "base_uri": "https://localhost:8080/"
        },
        "id": "M9zrgrnuDyme",
        "outputId": "672eac0c-faee-4351-cd3a-e6786ccc43e7"
      },
      "source": [
        "linked_list.print_list()"
      ],
      "execution_count": 141,
      "outputs": [
        {
          "output_type": "stream",
          "name": "stdout",
          "text": [
            "Fourth Node\n",
            "Ex Third Node\n",
            "New Third Node\n",
            "Second Node\n",
            "First Node\n",
            "Zero Node\n"
          ]
        }
      ]
    },
    {
      "cell_type": "code",
      "metadata": {
        "colab": {
          "base_uri": "https://localhost:8080/"
        },
        "id": "nPXMd6VTKvgD",
        "outputId": "a41b93af-04d7-4753-d899-54d381f135e7"
      },
      "source": [
        "[x for x in range(0)]"
      ],
      "execution_count": 4,
      "outputs": [
        {
          "output_type": "execute_result",
          "data": {
            "text/plain": [
              "[]"
            ]
          },
          "metadata": {},
          "execution_count": 4
        }
      ]
    }
  ]
}